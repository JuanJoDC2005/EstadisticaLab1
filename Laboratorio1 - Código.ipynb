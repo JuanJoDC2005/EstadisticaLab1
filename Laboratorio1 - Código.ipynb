{
 "cells": [
  {
   "cell_type": "code",
   "execution_count": 2,
   "metadata": {},
   "outputs": [
    {
     "ename": "NameError",
     "evalue": "name 'energia_cinetica' is not defined",
     "output_type": "error",
     "traceback": [
      "\u001b[1;31m---------------------------------------------------------------------------\u001b[0m",
      "\u001b[1;31mNameError\u001b[0m                                 Traceback (most recent call last)",
      "Cell \u001b[1;32mIn[2], line 5\u001b[0m\n\u001b[0;32m      3\u001b[0m masa \u001b[38;5;241m=\u001b[39m \u001b[38;5;241m75\u001b[39m\n\u001b[0;32m      4\u001b[0m velocidad \u001b[38;5;241m=\u001b[39m \u001b[38;5;241m20\u001b[39m\n\u001b[1;32m----> 5\u001b[0m energia \u001b[38;5;241m=\u001b[39m \u001b[43menergia_cinetica\u001b[49m(masa, velocidad)\n\u001b[0;32m      6\u001b[0m \u001b[38;5;28mprint\u001b[39m(\u001b[38;5;124mf\u001b[39m\u001b[38;5;124m\"\u001b[39m\u001b[38;5;124mEnergía cinética: \u001b[39m\u001b[38;5;132;01m{\u001b[39;00menergia\u001b[38;5;132;01m}\u001b[39;00m\u001b[38;5;124m\"\u001b[39m)\n",
      "\u001b[1;31mNameError\u001b[0m: name 'energia_cinetica' is not defined"
     ]
    }
   ],
   "source": [
    "\n",
    "def energía_cinética(masa, velocidad):\n",
    "    return 0.5 * masa * velocidad ** 2\n",
    "masa = 75\n",
    "velocidad = 20\n",
    "energia = energia_cinetica(masa, velocidad)\n",
    "print(f\"Energía cinética: {energia}\")\n",
    "\n"
   ]
  },
  {
   "cell_type": "code",
   "execution_count": null,
   "metadata": {},
   "outputs": [],
   "source": [
    "\n",
    "def es_primo(n):\n",
    "    if n < 2:\n",
    "        return False\n",
    "    for i in range(2, int(n**0.5) + 1):\n",
    "        if n % i == 0:\n",
    "            return False\n",
    "    return True\n",
    "for numero in range(1, 51):\n",
    "    if es_primo(numero):\n",
    "        print(f\"{numero} es primo\")"
   ]
  },
  {
   "cell_type": "code",
   "execution_count": null,
   "metadata": {},
   "outputs": [],
   "source": [
    "\n",
    "temperaturas = [21.1, 22.3, 19.8, 23.5, 18.7, 21.0, 20.5]\n",
    "promedio =sum(temperaturas) / len(temperaturas)\n",
    "\n",
    "print(f\"Promedio de temperaturas:{promedio:.2f} °C\")\n",
    "\n",
    "temperatura_min = min(temperaturas)\n",
    "\n",
    "print (f\"Temperatura más alta: {temperatura_max} °C\")\n",
    "\n",
    "print(f\"Temperatura más baja: {temperatura_min} °C\""
   ]
  }
 ],
 "metadata": {
  "kernelspec": {
   "display_name": "Python 3",
   "language": "python",
   "name": "python3"
  },
  "language_info": {
   "codemirror_mode": {
    "name": "ipython",
    "version": 3
   },
   "file_extension": ".py",
   "mimetype": "text/x-python",
   "name": "python",
   "nbconvert_exporter": "python",
   "pygments_lexer": "ipython3",
   "version": "3.12.0"
  }
 },
 "nbformat": 4,
 "nbformat_minor": 2
}
